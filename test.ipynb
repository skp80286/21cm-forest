{
 "cells": [
  {
   "cell_type": "code",
   "execution_count": 13,
   "metadata": {},
   "outputs": [],
   "source": [
    "\n",
    "import pandas as pd\n",
    "import numpy as np\n",
    "import pickle\n",
    "import math\n",
    "\n",
    "import matplotlib.pyplot as plt\n",
    "from sklearn.model_selection import train_test_split\n",
    "from sklearn.metrics import root_mean_squared_error, r2_score\n",
    "\n",
    "import scipy.fftpack as fftpack\n",
    "from scipy.stats import binned_statistic\n",
    "\n",
    "import argparse\n",
    "import glob\n",
    "from datetime import datetime\n",
    "\n",
    "import F21DataLoader as dl\n"
   ]
  },
  {
   "cell_type": "code",
   "execution_count": 20,
   "metadata": {},
   "outputs": [
    {
     "name": "stdout",
     "output_type": "stream",
     "text": [
      "y_pred: [[ 0.82 -0.25]\n",
      " [ 0.82  0.3 ]\n",
      " [ 0.7  -1.2 ]\n",
      " [ 0.5  -0.65]]\n",
      "y_test: [[ 0.8  0. ]\n",
      " [ 0.8  0. ]\n",
      " [ 0.6 -1. ]\n",
      " [ 0.6 -1. ]]\n",
      "R2 Score: [0.48000000000000076, 0.685]\n",
      "rmse : (4,)\n",
      "[ 8.75 10.   35.   42.5 ]\n",
      "Describing test data with rmse:        actual_xHI  actual_logfX  pred_xHI  pred_logfX       rmse\n",
      "count     4.00000       4.00000  4.000000    4.000000   4.000000\n",
      "mean      0.70000      -0.50000  0.710000   -0.450000  24.062500\n",
      "std       0.11547       0.57735  0.150997    0.633772  17.241393\n",
      "min       0.60000      -1.00000  0.500000   -1.200000   8.750000\n",
      "25%       0.60000      -1.00000  0.650000   -0.787500   9.687500\n",
      "50%       0.70000      -0.50000  0.760000   -0.450000  22.500000\n",
      "75%       0.80000       0.00000  0.820000   -0.112500  36.875000\n",
      "max       0.80000       0.00000  0.820000    0.300000  42.500000\n",
      "Describing data with rmse:        actual_xHI  actual_logfX  pred_xHI  pred_logfX       rmse   agg_rmse\n",
      "count     4.00000       4.00000  4.000000    4.000000   4.000000   4.000000\n",
      "mean      0.70000      -0.50000  0.710000   -0.450000  24.062500  24.062500\n",
      "std       0.11547       0.57735  0.150997    0.633772  17.241393  16.959664\n",
      "min       0.60000      -1.00000  0.500000   -1.200000   8.750000   9.375000\n",
      "25%       0.60000      -1.00000  0.650000   -0.787500   9.687500   9.375000\n",
      "50%       0.70000      -0.50000  0.760000   -0.450000  22.500000  24.062500\n",
      "75%       0.80000       0.00000  0.820000   -0.112500  36.875000  38.750000\n",
      "max       0.80000       0.00000  0.820000    0.300000  42.500000  38.750000\n",
      "   actual_xHI  actual_logfX  pred_xHI  pred_logfX   rmse  agg_rmse\n",
      "0         0.8           0.0      0.82       -0.25   8.75     9.375\n",
      "1         0.8           0.0      0.82        0.30  10.00     9.375\n",
      "2         0.6          -1.0      0.70       -1.20  35.00    38.750\n",
      "3         0.6          -1.0      0.50       -0.65  42.50    38.750\n",
      "rmse Summary: actual_xHI  actual_logfX\n",
      "0.6         -1.0            38.750\n",
      "0.8          0.0             9.375\n",
      "Name: agg_rmse, dtype: float64\n"
     ]
    },
    {
     "data": {
      "image/png": "[encoded data removed]",
      "text/plain": [
       "<Figure size 640x480 with 2 Axes>"
      ]
     },
     "metadata": {},
     "output_type": "display_data"
    }
   ],
   "source": [
    "def summarize_test(y_pred, y_test):\n",
    "    print(f\"y_pred: {y_pred}\")\n",
    "    print(f\"y_test: {y_test}\")\n",
    "    # Calculate R2 scores\n",
    "    r2 = [r2_score(y_test[:, i], y_pred[:, i]) for i in range(2)]\n",
    "    print(\"R2 Score: \" + str(r2))\n",
    "\n",
    "    # Calculate rmse scores\n",
    "    rmse = np.sqrt((y_test - y_pred) ** 2)\n",
    "    rmse = 100*(rmse[:,0]+rmse[:,1]/5)/(y_test[:,0]+y_test[:,1]/5) # Weighted as per the range of params\n",
    "    print(f\"rmse : {rmse.shape}\\n{rmse[:10]}\")\n",
    "    df_y = pd.DataFrame()\n",
    "    df_y = df_y.assign(actual_xHI=y_test[:,0])\n",
    "    df_y = df_y.assign(actual_logfX=y_test[:,1])\n",
    "    df_y = df_y.assign(pred_xHI=y_pred[:,0])\n",
    "    df_y = df_y.assign(pred_logfX=y_pred[:,1])\n",
    "    df_y = df_y.assign(rmse=rmse)\n",
    "    print(f\"Describing test data with rmse: {df_y.describe()}\")\n",
    "\n",
    "    df_y_agg = df_y.groupby([\"actual_xHI\", \"actual_logfX\"])['rmse'].mean()\n",
    "    df_y_agg.rename('agg_rmse', inplace=True)\n",
    "    df_y = df_y.merge(df_y_agg, on=['actual_xHI', 'actual_logfX'], validate='many_to_one')\n",
    "    print(f\"Describing data with rmse: \\n{df_y.describe()}\\n{df_y.head()}\")\n",
    "\n",
    "    rmse_summary = df_y.groupby([\"actual_xHI\", \"actual_logfX\"])['agg_rmse'].mean()\n",
    "    print(f\"rmse Summary: \\n{rmse_summary}\")\n",
    "\n",
    "    #print(df_y.head(5))\n",
    "    cmap = plt.get_cmap('viridis')\n",
    "    rmse = df_y['agg_rmse']\n",
    "    rmse_min = rmse.min()\n",
    "    rmse_max = rmse.max()\n",
    "    norm = plt.Normalize(rmse.min(), rmse.max())\n",
    "    colors = cmap(norm(rmse))    \n",
    "\n",
    "    plt.scatter(df_y['pred_xHI'], df_y['pred_logfX'], marker=\"o\", s=4, label='Predicted', c=colors)\n",
    "    plt.scatter(df_y['actual_xHI'], df_y['actual_logfX'], marker=\"X\", s=16, label='Actual', c=colors)\n",
    "    plt.xlim(0, 1)\n",
    "    plt.ylim(-4, 1)\n",
    "    plt.xlabel('xHI')\n",
    "    plt.ylabel('logfX')\n",
    "    plt.title('Predictions')\n",
    "    plt.legend()\n",
    "    plt.colorbar(label=f'RMS Error ({rmse_min:.2f}% to {rmse_max:.2f}%)')\n",
    "    #plt.savefig(f'output/f21_prediction.png')\n",
    "    plt.show()\n",
    "\n",
    "summarize_test(np.array([\n",
    "    [0.82, -0.25], \n",
    "    [0.82, 0.3], \n",
    "    [0.7, -1.2], \n",
    "    [0.5, -0.65]]), \n",
    "    np.array([\n",
    "        [0.8, 0.0], \n",
    "        [0.8, 0.0], \n",
    "        [0.6, -1.0], \n",
    "        [0.6, -1.0]]))"
   ]
  },
  {
   "cell_type": "code",
   "execution_count": null,
   "metadata": {},
   "outputs": [
    {
     "name": "stdout",
     "output_type": "stream",
     "text": [
      "F21_noisy_21cmFAST_200Mpc_z6.0_fX-1.80_xHI0.35_uGMRT_8kHz_t50h_Smin64.2mJy_alphaR-0.44.dat\n",
      "F21_noisy_21cmFAST_200Mpc_z6.0_fX-3.80_xHI0.11_SKA1-low_8kHz_t50h_Smin64.2mJy_alphaR-0.44.dat\n",
      "F21_noisy_21cmFAST_200Mpc_z6.0_fX-0.60_xHI0.70_SKA1-low_8kHz_t50h_Smin64.2mJy_alphaR-0.44.dat\n",
      "F21_noisy_21cmFAST_200Mpc_z6.0_fX-0.60_xHI0.14_SKA1-low_8kHz_t50h_Smin64.2mJy_alphaR-0.44.dat\n",
      "F21_noisy_21cmFAST_200Mpc_z6.0_fX-2.60_xHI0.44_uGMRT_8kHz_t50h_Smin64.2mJy_alphaR-0.44.dat\n",
      "F21_noisy_21cmFAST_200Mpc_z6.0_fX1.00_xHI0.25_uGMRT_8kHz_t50h_Smin64.2mJy_alphaR-0.44.dat\n",
      "F21_noisy_21cmFAST_200Mpc_z6.0_fX-3.60_xHI1.00_SKA1-low_8kHz_t50h_Smin64.2mJy_alphaR-0.44.dat\n",
      "F21_noisy_21cmFAST_200Mpc_z6.0_fX-0.80_xHI0.79_SKA1-low_8kHz_t50h_Smin64.2mJy_alphaR-0.44.dat\n",
      "F21_noisy_21cmFAST_200Mpc_z6.0_fX-3.60_xHI0.35_uGMRT_8kHz_t500h_Smin64.2mJy_alphaR-0.44.dat\n",
      "F21_noisy_21cmFAST_200Mpc_z6.0_fX-2.20_xHI0.35_SKA1-low_8kHz_t50h_Smin64.2mJy_alphaR-0.44.dat\n",
      "F21_noisy_21cmFAST_200Mpc_z6.0_fX-2.20_xHI0.80_uGMRT_8kHz_t50h_Smin64.2mJy_alphaR-0.44.dat\n",
      "F21_noisy_21cmFAST_200Mpc_z6.0_fX-2.20_xHI0.71_SKA1-low_8kHz_t50h_Smin64.2mJy_alphaR-0.44.dat\n",
      "F21_noisy_21cmFAST_200Mpc_z6.0_fX-2.60_xHI0.71_SKA1-low_8kHz_t50h_Smin64.2mJy_alphaR-0.44.dat\n",
      "F21_noisy_21cmFAST_200Mpc_z6.0_fX1.00_xHI0.29_uGMRT_8kHz_t50h_Smin64.2mJy_alphaR-0.44.dat\n",
      "F21_noisy_21cmFAST_200Mpc_z6.0_fX-2.00_xHI0.31_SKA1-low_8kHz_t50h_Smin64.2mJy_alphaR-0.44.dat\n",
      "F21_noisy_21cmFAST_200Mpc_z6.0_fX-0.40_xHI0.00_uGMRT_8kHz_t50h_Smin64.2mJy_alphaR-0.44.dat\n"
     ]
    }
   ],
   "source": [
    "with open('alldatafiles.txt', 'r') as file:\n",
    "    all_files = file.readlines()\n",
    "    # Remove any whitespace/newlines\n",
    "    all_files = [f.strip() for f in all_files]\n",
    "\n",
    "# Split into train and test sets\n",
    "train_files, test_files = train_test_split(all_files, test_size=16, random_state=42)\n",
    "print('\\n'.join(test_files))\n"
   ]
  }
 ],
 "metadata": {
  "kernelspec": {
   "display_name": "base",
   "language": "python",
   "name": "python3"
  },
  "language_info": {
   "codemirror_mode": {
    "name": "ipython",
    "version": 3
   },
   "file_extension": ".py",
   "mimetype": "text/x-python",
   "name": "python",
   "nbconvert_exporter": "python",
   "pygments_lexer": "ipython3",
   "version": "3.11.7"
  }
 },
 "nbformat": 4,
 "nbformat_minor": 2
}
