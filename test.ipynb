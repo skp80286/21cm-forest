{
 "cells": [
  {
   "cell_type": "code",
   "execution_count": 1,
   "metadata": {},
   "outputs": [],
   "source": [
    "\n",
    "import pandas as pd\n",
    "import numpy as np\n",
    "import pickle\n",
    "import math\n",
    "\n",
    "import matplotlib.pyplot as plt\n",
    "from sklearn.model_selection import train_test_split\n",
    "from sklearn.metrics import mean_squared_error, r2_score\n",
    "\n",
    "import scipy.fftpack as fftpack\n",
    "from scipy.stats import binned_statistic\n",
    "\n",
    "import argparse\n",
    "import glob\n",
    "from datetime import datetime\n",
    "\n",
    "import F21DataLoader as dl\n"
   ]
  },
  {
   "cell_type": "code",
   "execution_count": 20,
   "metadata": {},
   "outputs": [
    {
     "name": "stdout",
     "output_type": "stream",
     "text": [
      "R2 Score: [0.48000000000000076, 0.695]\n",
      "se raw: [[0.0004 0.0625]\n",
      " [0.0004 0.09  ]\n",
      " [0.01   0.0625]\n",
      " [0.01   0.09  ]]\n",
      "se weighted: [0.0029 0.004  0.0125 0.0136]\n",
      "actual_xHI  actual_logfX\n",
      "0.6         -1.0            0.01305\n",
      "0.8          0.0            0.00345\n",
      "Name: agg_rmse, dtype: float64\n",
      "   actual_xHI  actual_logfX  pred_xHI  pred_logfX      se  agg_rmse\n",
      "0         0.8           0.0      0.82       -0.25  0.0029   0.00345\n",
      "1         0.8           0.0      0.82        0.30  0.0040   0.00345\n",
      "2         0.6          -1.0      0.70       -1.25  0.0125   0.01305\n",
      "3         0.6          -1.0      0.50       -0.70  0.0136   0.01305\n",
      "   actual_xHI  actual_logfX  pred_xHI  pred_logfX      se  agg_rmse\n",
      "0         0.8           0.0      0.82       -0.25  0.0029  0.058737\n",
      "1         0.8           0.0      0.82        0.30  0.0040  0.058737\n",
      "2         0.6          -1.0      0.70       -1.25  0.0125  0.114237\n",
      "3         0.6          -1.0      0.50       -0.70  0.0136  0.114237\n"
     ]
    },
    {
     "data": {
      "image/png": "[encoded data removed]",
      "text/plain": [
       "<Figure size 640x480 with 2 Axes>"
      ]
     },
     "metadata": {},
     "output_type": "display_data"
    }
   ],
   "source": [
    "def summarize_test(y_pred, y_test):\n",
    "    # Calculate R2 scores\n",
    "    r2 = [r2_score(y_test[:, i], y_pred[:, i]) for i in range(2)]\n",
    "    print(\"R2 Score: \" + str(r2))\n",
    "\n",
    "    # Calculate rmse scores\n",
    "    se = (y_test - y_pred) ** 2\n",
    "    print(f\"se raw: {se}\")\n",
    "    se[:,1] /= 25 \n",
    "    se_combined = se[:,0] + se[:,1]\n",
    "    print(f\"se weighted: {se_combined}\")\n",
    "    df_y = pd.DataFrame()\n",
    "    df_y = df_y.assign(actual_xHI=y_test[:,0])\n",
    "    df_y = df_y.assign(actual_logfX=y_test[:,1])\n",
    "    df_y = df_y.assign(pred_xHI=y_pred[:,0])\n",
    "    df_y = df_y.assign(pred_logfX=y_pred[:,1])\n",
    "    df_y = df_y.assign(se=se_combined)\n",
    "    df_y_agg = df_y.groupby([\"actual_xHI\", \"actual_logfX\"])['se'].mean()\n",
    "    df_y_agg.rename('agg_rmse', inplace=True)\n",
    "    print(df_y_agg)\n",
    "    df_y = df_y.merge(df_y_agg, on=['actual_xHI', 'actual_logfX'], validate='many_to_one')\n",
    "    print(df_y)\n",
    "    df_y=df_y.assign(agg_rmse=np.sqrt(df_y['agg_rmse']))\n",
    "    print(df_y)\n",
    "    #rms_scores_percent = np.array([mse[:, i]*100/np.abs(np.mean(y_test[:, i])) for i in range(2)])\n",
    "    #print(\"RMS Error: \" + str(rms_scores_percent))\n",
    "    cmap = plt.get_cmap('viridis')\n",
    "    rmse = df_y['agg_rmse']\n",
    "    norm = plt.Normalize(rmse.min(), rmse.max())\n",
    "    colors = cmap(norm(rmse))\n",
    "\n",
    "    plt.scatter(df_y['pred_xHI'], df_y['pred_logfX'], marker=\".\", s=2, label='Predicted', c=colors)\n",
    "    plt.scatter(df_y['actual_xHI'], df_y['actual_logfX'], marker=\"X\", s=8, label='Actual', c=colors)\n",
    "    plt.xlim(0, 1)\n",
    "    plt.ylim(-4, 1)\n",
    "    plt.xlabel('xHI')\n",
    "    plt.ylabel('logfX')\n",
    "    plt.title('Predictions')\n",
    "    plt.legend()\n",
    "    plt.colorbar()\n",
    "    plt.savefig('output/f21_prediction.png')\n",
    "    plt.show()\n",
    "\n",
    "summarize_test(np.array([\n",
    "    [0.82, -0.25], \n",
    "    [0.82, 0.3], \n",
    "    [0.7, -1.25], \n",
    "    [0.5, -0.7]]), \n",
    "    np.array([\n",
    "        [0.8, 0.0], \n",
    "        [0.8, 0.0], \n",
    "        [0.6, -1.0], \n",
    "        [0.6, -1.0]]))"
   ]
  }
 ],
 "metadata": {
  "kernelspec": {
   "display_name": "base",
   "language": "python",
   "name": "python3"
  },
  "language_info": {
   "codemirror_mode": {
    "name": "ipython",
    "version": 3
   },
   "file_extension": ".py",
   "mimetype": "text/x-python",
   "name": "python",
   "nbconvert_exporter": "python",
   "pygments_lexer": "ipython3",
   "version": "3.11.7"
  }
 },
 "nbformat": 4,
 "nbformat_minor": 2
}
