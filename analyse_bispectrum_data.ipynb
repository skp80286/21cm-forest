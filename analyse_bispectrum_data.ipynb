{
 "cells": [
  {
   "cell_type": "code",
   "execution_count": 2,
   "metadata": {},
   "outputs": [],
   "source": [
    "import numpy as np"
   ]
  },
  {
   "cell_type": "code",
   "execution_count": 4,
   "metadata": {},
   "outputs": [
    {
     "name": "stdout",
     "output_type": "stream",
     "text": [
      "[[0.00166129 0.00277253 0.00738029 ... 0.00529243 0.3463873  0.75999999]\n",
      " [0.00237933 0.00468048 0.00466642 ... 0.00574161 0.00340896 0.75999999]\n",
      " [0.00610728 0.00677029 0.00408081 ... 0.00349124 0.24985562 0.75999999]\n",
      " [0.00416661 0.0038394  0.00561505 ... 0.0034091  0.04835174 0.75999999]\n",
      " [0.00293866 0.00253636 0.00204036 ... 0.00268904 0.09718798 0.75999999]]\n"
     ]
    }
   ],
   "source": [
    "training_data = np.loadtxt('./saved_output/bispectrum_data/all_training_data.csv', delimiter=',', skiprows=1)\n",
    "print(training_data[:5])"
   ]
  },
  {
   "cell_type": "code",
   "execution_count": 5,
   "metadata": {},
   "outputs": [
    {
     "name": "stdout",
     "output_type": "stream",
     "text": [
      "[[-6.40015979e+00 -5.88799575e+00 -4.90894196e+00 ... -5.24147685e+00\n",
      "   3.46387297e-01  7.59999990e-01]\n",
      " [-6.04093579e+00 -5.36435399e+00 -5.36736364e+00 ... -5.16001594e+00\n",
      "   3.40895937e-03  7.59999990e-01]\n",
      " [-5.09827357e+00 -4.99521162e+00 -5.50145873e+00 ... -5.65749785e+00\n",
      "   2.49855623e-01  7.59999990e-01]\n",
      " [-5.48065155e+00 -5.56243993e+00 -5.18230420e+00 ... -5.68130753e+00\n",
      "   4.83517423e-02  7.59999990e-01]\n",
      " [-5.82980096e+00 -5.97702362e+00 -6.19462723e+00 ... -5.91857102e+00\n",
      "   9.71879810e-02  7.59999990e-01]]\n"
     ]
    }
   ],
   "source": [
    "log_training_data = np.log(training_data[:,:-2])\n",
    "combined = np.hstack((log_training_data, training_data[:,-2:]))\n",
    "print(combined[:5])\n"
   ]
  },
  {
   "cell_type": "code",
   "execution_count": 6,
   "metadata": {},
   "outputs": [],
   "source": [
    "np.savetxt('./saved_output/bispectrum_data/log_training_data.csv', combined, delimiter=',')"
   ]
  },
  {
   "cell_type": "code",
   "execution_count": 7,
   "metadata": {},
   "outputs": [
    {
     "name": "stdout",
     "output_type": "stream",
     "text": [
      "[[1.22653448e-04 1.60987305e-03 1.51127783e-03 ... 9.05130897e-05\n",
      "  1.06390089e-01 6.00000024e-01]\n",
      " [8.60990518e-03 9.78452843e-03 1.25018022e-03 ... 2.93379736e-04\n",
      "  1.06390089e-01 6.00000024e-01]\n",
      " [6.74600759e-03 1.28346402e-02 2.64633901e-03 ... 1.14847851e-02\n",
      "  1.06390089e-01 6.00000024e-01]\n",
      " [2.02758809e-03 7.74851391e-05 2.35822705e-03 ... 4.94604046e-04\n",
      "  1.06390089e-01 6.00000024e-01]\n",
      " [7.80588892e-03 1.23746839e-03 3.84328298e-03 ... 1.15883019e-04\n",
      "  1.06390089e-01 6.00000024e-01]]\n",
      "[[-9.00614767 -6.43159996 -6.49479974 ... -9.31001608  0.10639009\n",
      "   0.60000002]\n",
      " [-4.75484197 -4.62695287 -6.68446756 ... -8.13404276  0.10639009\n",
      "   0.60000002]\n",
      " [-4.99880442 -4.3556075  -5.9345781  ... -4.46673215  0.10639009\n",
      "   0.60000002]\n",
      " [-6.20090832 -9.46542439 -6.04984519 ... -7.61175302  0.10639009\n",
      "   0.60000002]\n",
      " [-4.85287684 -6.69468761 -5.56142834 ... -9.06292933  0.10639009\n",
      "   0.60000002]]\n"
     ]
    }
   ],
   "source": [
    "test_data = np.loadtxt('./saved_output/bispectrum_data/all_test_data.csv', delimiter=',', skiprows=1)\n",
    "print(test_data[:5])\n",
    "log_test_data = np.log(test_data[:,:-2])\n",
    "combined_test = np.hstack((log_test_data, test_data[:,-2:]))\n",
    "print(combined_test[:5])\n",
    "np.savetxt('./saved_output/bispectrum_data/log_test_data.csv', combined_test, delimiter=',')"
   ]
  }
 ],
 "metadata": {
  "kernelspec": {
   "display_name": "base",
   "language": "python",
   "name": "python3"
  },
  "language_info": {
   "codemirror_mode": {
    "name": "ipython",
    "version": 3
   },
   "file_extension": ".py",
   "mimetype": "text/x-python",
   "name": "python",
   "nbconvert_exporter": "python",
   "pygments_lexer": "ipython3",
   "version": "3.12.2"
  }
 },
 "nbformat": 4,
 "nbformat_minor": 2
}
