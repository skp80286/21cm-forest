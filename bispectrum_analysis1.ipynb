{
 "cells": [
  {
   "cell_type": "code",
   "execution_count": 1,
   "metadata": {},
   "outputs": [
    {
     "data": {
      "text/plain": [
       "<module 'F21Stats' from '/Users/meghapatil/Documents/Sameer/Physics/girish-kulkarni/Code/21cm-forest/code/F21Stats.py'>"
      ]
     },
     "execution_count": 1,
     "metadata": {},
     "output_type": "execute_result"
    }
   ],
   "source": [
    "import numpy as np\n",
    "import numpy as np\n",
    "import f21_predict_base as base\n",
    "import F21DataLoader as dl\n",
    "import F21Stats as f21stats\n",
    "import matplotlib.pyplot as plt\n",
    "import importlib\n",
    "\n",
    "\n",
    "importlib.reload(base)\n",
    "importlib.reload(dl)\n",
    "importlib.reload(f21stats)\n",
    "\n",
    "\n"
   ]
  },
  {
   "cell_type": "code",
   "execution_count": 2,
   "metadata": {},
   "outputs": [],
   "source": [
    "def load_dataset(datafiles, psbatchsize=10, ps_bins=None, limitsamplesize=None):\n",
    "    # Create processor with desired number of worker threads\n",
    "    processor = dl.F21DataLoader(max_workers=1, psbatchsize=psbatchsize, skip_ps=False, ps_bins=None, limitsamplesize=limitsamplesize, scale_ps=True, use_bispectrum=True)#, limitsamplesize=4)\n",
    "        \n",
    "    # Process all files and get results \n",
    "    results = processor.process_all_files(datafiles)\n",
    "        \n",
    "    # Access results\n",
    "    all_ks = results['ks']\n",
    "    all_los = results['los']\n",
    "    all_freq = results['freq_axis']\n",
    "    all_ps = results['ps']\n",
    "    all_params = results['params']\n",
    "    all_bispec = results['bispectrum']\n",
    "    all_k_bispec = results['k_bispec']\n",
    "    \"\"\"\n",
    "    print(f\"sample ks:{all_ks[0]}\")\n",
    "    print(f\"sample ps:{all_ps[0,:]}\")\n",
    "    print(f\"sample params:{all_params[0]}\")\n",
    "    print(f\"sample los:{all_los[0]}\")\n",
    "    print(f\"sample freq:{all_freq}\")\n",
    "    \"\"\"\n",
    "    print(f\"sample bispectrum:{all_bispec[0]}\")\n",
    "    print(f\"sample k_bispec:{all_k_bispec[0]}\")\n",
    "    print(f\"\\nCombined data shape: {all_los.shape}\")\n",
    "    print(f\"Combined parameters shape: {all_params.shape}\")\n",
    "    return (all_params, all_freq, all_los, all_ps, all_ks, all_bispec, all_k_bispec)\n",
    "\n",
    "def plot(ps_set, ks, psn=None, ksn=None, title=None, labels=None, xscale='log', yscale='log'):\n",
    "    #print(f\"shapes: {ps_set.shape},{ks.shape}\")\n",
    "\n",
    "    base.initplt()\n",
    "    plt.title(f'{title}')\n",
    "    print(type(ps_set[0]))\n",
    "    if isinstance(ps_set[0], np.ndarray):\n",
    "        for i, ps in enumerate(ps_set):\n",
    "            if labels is not None: label = labels[i]\n",
    "            row_ks = None\n",
    "            if ks is not None:\n",
    "                if isinstance(ks[0], np.ndarray): row_ks = ks[i]\n",
    "                else: row_ks = ks\n",
    "            print(f\"Plotting: {row_ks}, {ps}\")\n",
    "            plt.plot(row_ks, ps, label=label, marker='o', alpha=0.2)\n",
    "    else:\n",
    "        plt.plot(ks*1e6, ps, label=labels, marker='o')\n",
    "        #plt.scatter(ks[1:]*1e6, ps[1:], label=label)\n",
    "    if psn is not None: plt.plot(ksn[0], psn[0], \"r--\", label='Noise', alpha=0.2)\n",
    "         \n",
    "    plt.xscale(xscale)\n",
    "    plt.yscale(yscale)\n",
    "    plt.xlabel(r'k1 (Hz$^{-1}$)')\n",
    "    plt.ylabel(r'$B_{21}$')\n",
    "    plt.legend()\n",
    "    plt.show()"
   ]
  },
  {
   "cell_type": "code",
   "execution_count": 3,
   "metadata": {},
   "outputs": [
    {
     "name": "stderr",
     "output_type": "stream",
     "text": [
      "ERROR:root:Error processing ../data/21cmFAST_los/F21_noisy/F21_noiseonly_21cmFAST_200Mpc_z6.0_uGMRT_8kHz_t500h_Smin64.2mJy_alphaR-0.44.dat: cannot access local variable 'cumulative_los_np' where it is not associated with a value\n",
      "Traceback (most recent call last):\n",
      "  File \"/Users/meghapatil/Documents/Sameer/Physics/girish-kulkarni/Code/21cm-forest/code/F21DataLoader.py\", line 216, in process_file\n",
      "    k_bispec, bs = F21Stats.F21Stats.compute_1d_bispectrum(cumulative_los_np)\n",
      "                                                           ^^^^^^^^^^^^^^^^^\n",
      "UnboundLocalError: cannot access local variable 'cumulative_los_np' where it is not associated with a value\n"
     ]
    },
    {
     "ename": "IndexError",
     "evalue": "index 0 is out of bounds for axis 0 with size 0",
     "output_type": "error",
     "traceback": [
      "\u001b[0;31m---------------------------------------------------------------------------\u001b[0m",
      "\u001b[0;31mIndexError\u001b[0m                                Traceback (most recent call last)",
      "Cell \u001b[0;32mIn[3], line 1\u001b[0m\n\u001b[0;32m----> 1\u001b[0m (paramsn, freqn, losn, psn, ksn, bispecn, kbispecn) \u001b[38;5;241m=\u001b[39m load_dataset([\u001b[38;5;124m\"\u001b[39m\u001b[38;5;124m../data/21cmFAST_los/F21_noisy/F21_noiseonly_21cmFAST_200Mpc_z6.0_uGMRT_8kHz_t500h_Smin64.2mJy_alphaR-0.44.dat\u001b[39m\u001b[38;5;124m\"\u001b[39m], psbatchsize\u001b[38;5;241m=\u001b[39m\u001b[38;5;241m10\u001b[39m, ps_bins\u001b[38;5;241m=\u001b[39m\u001b[38;5;241m20\u001b[39m, limitsamplesize\u001b[38;5;241m=\u001b[39m\u001b[38;5;241m1000\u001b[39m)\n\u001b[1;32m      2\u001b[0m (paramssn25_1, freqsn25_1, lossn25_1, pssn25_1, kssn25_1, bispecsn25_1, kbispec25_1) \u001b[38;5;241m=\u001b[39m load_dataset([\u001b[38;5;124m\"\u001b[39m\u001b[38;5;124m../data/21cmFAST_los/F21_noisy/F21_noisy_21cmFAST_200Mpc_z6.0_fX-1.00_xHI0.25_uGMRT_8kHz_t500h_Smin64.2mJy_alphaR-0.44.dat\u001b[39m\u001b[38;5;124m\"\u001b[39m], psbatchsize\u001b[38;5;241m=\u001b[39m\u001b[38;5;241m10\u001b[39m, ps_bins\u001b[38;5;241m=\u001b[39m\u001b[38;5;241m20\u001b[39m, limitsamplesize\u001b[38;5;241m=\u001b[39m\u001b[38;5;241m10\u001b[39m)\n\u001b[1;32m      3\u001b[0m (paramssn52_2, freqsn52_2, lossn52_2, pssn52_2, kssn52_2, bispecsn52_2, kbispec52_2) \u001b[38;5;241m=\u001b[39m load_dataset([\u001b[38;5;124m\"\u001b[39m\u001b[38;5;124m../data/21cmFAST_los/F21_noisy/F21_noisy_21cmFAST_200Mpc_z6.0_fX-2.00_xHI0.52_uGMRT_8kHz_t500h_Smin64.2mJy_alphaR-0.44.dat\u001b[39m\u001b[38;5;124m\"\u001b[39m], psbatchsize\u001b[38;5;241m=\u001b[39m\u001b[38;5;241m10\u001b[39m, ps_bins\u001b[38;5;241m=\u001b[39m\u001b[38;5;241m20\u001b[39m, limitsamplesize\u001b[38;5;241m=\u001b[39m\u001b[38;5;241m10\u001b[39m)\n",
      "Cell \u001b[0;32mIn[2], line 23\u001b[0m, in \u001b[0;36mload_dataset\u001b[0;34m(datafiles, psbatchsize, ps_bins, limitsamplesize)\u001b[0m\n\u001b[1;32m     15\u001b[0m all_k_bispec \u001b[38;5;241m=\u001b[39m results[\u001b[38;5;124m'\u001b[39m\u001b[38;5;124mk_bispec\u001b[39m\u001b[38;5;124m'\u001b[39m]\n\u001b[1;32m     16\u001b[0m \u001b[38;5;250m\u001b[39m\u001b[38;5;124;03m\"\"\"\u001b[39;00m\n\u001b[1;32m     17\u001b[0m \u001b[38;5;124;03mprint(f\"sample ks:{all_ks[0]}\")\u001b[39;00m\n\u001b[1;32m     18\u001b[0m \u001b[38;5;124;03mprint(f\"sample ps:{all_ps[0,:]}\")\u001b[39;00m\n\u001b[0;32m   (...)\u001b[0m\n\u001b[1;32m     21\u001b[0m \u001b[38;5;124;03mprint(f\"sample freq:{all_freq}\")\u001b[39;00m\n\u001b[1;32m     22\u001b[0m \u001b[38;5;124;03m\"\"\"\u001b[39;00m\n\u001b[0;32m---> 23\u001b[0m \u001b[38;5;28mprint\u001b[39m(\u001b[38;5;124mf\u001b[39m\u001b[38;5;124m\"\u001b[39m\u001b[38;5;124msample bispectrum:\u001b[39m\u001b[38;5;132;01m{\u001b[39;00mall_bispec[\u001b[38;5;241m0\u001b[39m]\u001b[38;5;132;01m}\u001b[39;00m\u001b[38;5;124m\"\u001b[39m)\n\u001b[1;32m     24\u001b[0m \u001b[38;5;28mprint\u001b[39m(\u001b[38;5;124mf\u001b[39m\u001b[38;5;124m\"\u001b[39m\u001b[38;5;124msample k_bispec:\u001b[39m\u001b[38;5;132;01m{\u001b[39;00mall_k_bispec[\u001b[38;5;241m0\u001b[39m]\u001b[38;5;132;01m}\u001b[39;00m\u001b[38;5;124m\"\u001b[39m)\n\u001b[1;32m     25\u001b[0m \u001b[38;5;28mprint\u001b[39m(\u001b[38;5;124mf\u001b[39m\u001b[38;5;124m\"\u001b[39m\u001b[38;5;130;01m\\n\u001b[39;00m\u001b[38;5;124mCombined data shape: \u001b[39m\u001b[38;5;132;01m{\u001b[39;00mall_los\u001b[38;5;241m.\u001b[39mshape\u001b[38;5;132;01m}\u001b[39;00m\u001b[38;5;124m\"\u001b[39m)\n",
      "\u001b[0;31mIndexError\u001b[0m: index 0 is out of bounds for axis 0 with size 0"
     ]
    }
   ],
   "source": [
    "(paramsn, freqn, losn, psn, ksn, bispecn, kbispecn) = load_dataset([\"../data/21cmFAST_los/F21_noisy/F21_noiseonly_21cmFAST_200Mpc_z6.0_uGMRT_8kHz_t500h_Smin64.2mJy_alphaR-0.44.dat\"], psbatchsize=10, ps_bins=20, limitsamplesize=1000)\n",
    "(paramssn25_1, freqsn25_1, lossn25_1, pssn25_1, kssn25_1, bispecsn25_1, kbispec25_1) = load_dataset([\"../data/21cmFAST_los/F21_noisy/F21_noisy_21cmFAST_200Mpc_z6.0_fX-1.00_xHI0.25_uGMRT_8kHz_t500h_Smin64.2mJy_alphaR-0.44.dat\"], psbatchsize=10, ps_bins=20, limitsamplesize=10)\n",
    "(paramssn52_2, freqsn52_2, lossn52_2, pssn52_2, kssn52_2, bispecsn52_2, kbispec52_2) = load_dataset([\"../data/21cmFAST_los/F21_noisy/F21_noisy_21cmFAST_200Mpc_z6.0_fX-2.00_xHI0.52_uGMRT_8kHz_t500h_Smin64.2mJy_alphaR-0.44.dat\"], psbatchsize=10, ps_bins=20, limitsamplesize=10)\n",
    "(paramssn94_4, freqsn94_4, lossn94_4, pssn94_4, kssn94_4, bispecsn94_4, kbispec94_4) = load_dataset([\"../data/21cmFAST_los/F21_noisy/F21_noisy_21cmFAST_200Mpc_z6.0_fX-4.00_xHI0.94_uGMRT_8kHz_t500h_Smin64.2mJy_alphaR-0.44.dat\"], psbatchsize=10, ps_bins=20, limitsamplesize=10)\n",
    "(paramssomax, freqsomax, lossomax, pssomax, kssomax, bispecsomax, kbispecsomax) = load_dataset([\"../data/21cmFAST_los/F21_noisy/F21_signalonly_21cmFAST_200Mpc_z6.0_fX-4.00_xHI0.94_8kHz.dat\"], psbatchsize=10, ps_bins=20, limitsamplesize=10)\n",
    "(paramssn80_1, freqsn80_1, lossn80_1, pssn80_1, kssn80_1, bispecsn80_1, kbispec80_1) = load_dataset([\"../data/21cmFAST_los/F21_noisy/F21_noisy_21cmFAST_200Mpc_z6.0_fX-1.00_xHI0.80_uGMRT_8kHz_t500h_Smin64.2mJy_alphaR-0.44.dat\"], psbatchsize=10, ps_bins=20, limitsamplesize=10)\n",
    "(paramssn52_1, freqsn52_1, lossn52_1, pssn52_1, kssn52_1, bispecsn52_1, kbispec52_1) = load_dataset([\"../data/21cmFAST_los/F21_noisy/F21_noisy_21cmFAST_200Mpc_z6.0_fX-1.00_xHI0.52_uGMRT_8kHz_t500h_Smin64.2mJy_alphaR-0.44.dat\"], psbatchsize=10, ps_bins=20, limitsamplesize=10)\n"
   ]
  }
 ],
 "metadata": {
  "kernelspec": {
   "display_name": "base",
   "language": "python",
   "name": "python3"
  },
  "language_info": {
   "codemirror_mode": {
    "name": "ipython",
    "version": 3
   },
   "file_extension": ".py",
   "mimetype": "text/x-python",
   "name": "python",
   "nbconvert_exporter": "python",
   "pygments_lexer": "ipython3",
   "version": "3.12.2"
  }
 },
 "nbformat": 4,
 "nbformat_minor": 2
}
